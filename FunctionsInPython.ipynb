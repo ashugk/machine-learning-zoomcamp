{
  "nbformat": 4,
  "nbformat_minor": 0,
  "metadata": {
    "colab": {
      "provenance": [],
      "authorship_tag": "ABX9TyMfytvgUfMLucRVsk/0jyeA",
      "include_colab_link": true
    },
    "kernelspec": {
      "name": "python3",
      "display_name": "Python 3"
    },
    "language_info": {
      "name": "python"
    }
  },
  "cells": [
    {
      "cell_type": "markdown",
      "metadata": {
        "id": "view-in-github",
        "colab_type": "text"
      },
      "source": [
        "<a href=\"https://colab.research.google.com/github/ashugk/machine-learning-zoomcamp/blob/main/FunctionsInPython.ipynb\" target=\"_parent\"><img src=\"https://colab.research.google.com/assets/colab-badge.svg\" alt=\"Open In Colab\"/></a>"
      ]
    },
    {
      "cell_type": "markdown",
      "source": [
        "<h1>Functions in Python </h1>\n",
        ".Why functions\n",
        ".function definition\n",
        ".positional keyword argument in Functions"
      ],
      "metadata": {
        "id": "LCsZIg_DztiJ"
      }
    },
    {
      "cell_type": "code",
      "execution_count": 1,
      "metadata": {
        "id": "P0PkfvT4zprg"
      },
      "outputs": [],
      "source": [
        "def hello(name, age=30):\n",
        "  print(\"My name is {}, my age is {}\".format(name, age))\n"
      ]
    },
    {
      "cell_type": "code",
      "source": [
        "hello('Ashu')"
      ],
      "metadata": {
        "colab": {
          "base_uri": "https://localhost:8080/"
        },
        "id": "glfbSqd40uom",
        "outputId": "16b4ff5b-2d54-4f13-e823-1a23dd73e309"
      },
      "execution_count": 2,
      "outputs": [
        {
          "output_type": "stream",
          "name": "stdout",
          "text": [
            "My name is Ashu, my age is 30\n"
          ]
        }
      ]
    },
    {
      "cell_type": "code",
      "source": [
        "def hello(*args, **kwargs):\n",
        "  print(args)\n",
        "  print(kwargs)"
      ],
      "metadata": {
        "id": "yjmbXDvL0zLD"
      },
      "execution_count": 3,
      "outputs": []
    },
    {
      "cell_type": "code",
      "source": [
        "hello(\"Ashu\",\"Poo\", married=True, yearOFMarriage=1)"
      ],
      "metadata": {
        "colab": {
          "base_uri": "https://localhost:8080/"
        },
        "id": "YQLhfimG1cGG",
        "outputId": "0994a2f2-f7e1-4284-d49a-e371139cb4ba"
      },
      "execution_count": 4,
      "outputs": [
        {
          "output_type": "stream",
          "name": "stdout",
          "text": [
            "('Ashu', 'Poo')\n",
            "{'married': True, 'yearOFMarriage': 1}\n"
          ]
        }
      ]
    },
    {
      "cell_type": "code",
      "source": [
        "name=[\"ash\",\"push\"]\n",
        "dict_args={'married':True, 'yearOfMarriage':1}\n",
        "#print(hello(name, dict_args))\n",
        "print(hello(*name, **dict_args))"
      ],
      "metadata": {
        "colab": {
          "base_uri": "https://localhost:8080/"
        },
        "id": "kLx7YMP61nJm",
        "outputId": "4627ed35-5970-4cca-d6b3-5c53ce00af52"
      },
      "execution_count": 7,
      "outputs": [
        {
          "output_type": "stream",
          "name": "stdout",
          "text": [
            "('ash', 'push')\n",
            "{'married': True, 'yearOfMarriage': 1}\n",
            "None\n"
          ]
        }
      ]
    },
    {
      "cell_type": "markdown",
      "source": [
        "**Map function **"
      ],
      "metadata": {
        "id": "2HX5zag_3JIS"
      }
    },
    {
      "cell_type": "code",
      "source": [
        "def even_or_odd(num):\n",
        "  if num % 2==0:\n",
        "    return \"the number {} is even\".format(num)\n",
        "  else:\n",
        "    return \"the number {} is odd\".format(num)\n"
      ],
      "metadata": {
        "id": "OmonaQdF2MwP"
      },
      "execution_count": 8,
      "outputs": []
    },
    {
      "cell_type": "code",
      "source": [
        "list_of_num=[1,2,3,4,5,6,7,8,934,45,21]"
      ],
      "metadata": {
        "id": "V7G3Uc8V3vB-"
      },
      "execution_count": null,
      "outputs": []
    }
  ]
}